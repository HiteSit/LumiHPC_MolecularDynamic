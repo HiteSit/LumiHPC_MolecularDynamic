{
 "cells": [
  {
   "cell_type": "code",
   "execution_count": 16,
   "metadata": {},
   "outputs": [],
   "source": [
    "import os\n",
    "import paramiko\n",
    "import scp\n",
    "\n",
    "from HPC_MD.Lumi_Interface import HPCConnection\n",
    "from HPC_MD.Call_Runner import generate_md_runner"
   ]
  },
  {
   "cell_type": "code",
   "execution_count": 17,
   "metadata": {},
   "outputs": [],
   "source": [
    "# Expand the tilde to your actual home directory path\n",
    "key_path = os.path.expanduser(\"~/.ssh/id_ed25519\")\n",
    "\n",
    "# Now create your connection with the expanded path\n",
    "hpc = HPCConnection(\n",
    "    hostname=\"lumi.csc.fi\",\n",
    "    username=\"fuscoric\",\n",
    "    key_path=key_path,\n",
    "    key_passphrase=\"Dm761pm*\"\n",
    ")"
   ]
  },
  {
   "cell_type": "code",
   "execution_count": 18,
   "metadata": {},
   "outputs": [
    {
     "name": "stdout",
     "output_type": "stream",
     "text": [
      "#!/bin/bash -l\n",
      "#SBATCH --job-name=MD_Wrapper\n",
      "#SBATCH --output=/dev/null\n",
      "#SBATCH --error=/dev/null\n",
      "#SBATCH --partition=dev-g\n",
      "#SBATCH --nodes=1\n",
      "#SBATCH --ntasks-per-node=2\n",
      "#SBATCH --gpus-per-node=2\n",
      "#SBATCH --cpus-per-task=7\n",
      "#SBATCH --time=02:00:00\n",
      "#SBATCH --account=project_465001750\n",
      "\n",
      "cat << EOF > select_gpu\n",
      "#!/bin/bash\n",
      "\n",
      "# Export the Python Path\n",
      "export PATH=\"/scratch/project_465001750/Singularity_Envs/cheminf_rocm/env_cheminf_rocm/bin:$PATH\"\n",
      "\n",
      "# Distribute the GPU for the ranks equally\n",
      "export ROCR_VISIBLE_DEVICES=$((SLURM_LOCALID % SLURM_GPUS_PER_NODE))\n",
      "\n",
      "# Only assign GPUs to ranks > 0 (workers)\n",
      "if [ $SLURM_PROCID -gt 0 ]; then\n",
      "    # Adjust the calculation to account for rank 0 not using a GPU\n",
      "    worker_id=$((SLURM_PROCID - 1))\n",
      "    export ROCR_VISIBLE_DEVICES=$((worker_id % SLURM_GPUS_PER_NODE))\n",
      "else\n",
      "    # For rank 0, set an invalid GPU ID or leave it unset\n",
      "    export ROCR_VISIBLE_DEVICES=\"\"\n",
      "fi\n",
      "\n",
      "exec $*\n",
      "EOF\n",
      "\n",
      "chmod +x ./select_gpu\n",
      "\n",
      "cat << EOF > md_config.toml\n",
      "[mode]\n",
      "type = \"legacy\"\n",
      "\n",
      "[system]\n",
      "delta_pico = 0.002\n",
      "rerun = false\n",
      "\n",
      "[nvt]\n",
      "steps = 400\n",
      "dcd_save = 50\n",
      "log_save = 1\n",
      "temps_list = [50, 100, 150, 200, 250, 300, 301]\n",
      "\n",
      "[npt]\n",
      "steps = 400\n",
      "dcd_save = 50\n",
      "log_save = 1\n",
      "rests_list = [1000000000, 100000, 1000, 100, 10, 1]\n",
      "atoms_to_restraints = [\"CA\"]\n",
      "\n",
      "[md]\n",
      "steps = 150000\n",
      "dcd_save = 100\n",
      "log_save = 10\n",
      "\n",
      "[legacy.runs]\n",
      "Run1 = { protein = \"./protein1.pdb\", ligand = \"./ligand1.sdf\" }\n",
      "Run2 = { protein = \"./protein2.pdb\", ligand = \"APO\" }\n",
      "\n",
      "EOF\n",
      "\n",
      "export OMP_NUM_THREADS=$SLURM_CPUS_PER_TASK\n",
      "srun --output=MD_Wrapper_%t.log --error=MD_Wrapper_%t.error ./select_gpu python MPI_MD_Wrapper.py md_config.toml\n",
      "\n",
      "rm -rf ./select_gpu\n",
      "rm -rf ./md_config.toml\n",
      "\n"
     ]
    }
   ],
   "source": [
    "custom_config = {\n",
    "    \"mode\": {\"type\": \"legacy\"},\n",
    "    \"legacy\": {\n",
    "        \"runs\": {\n",
    "            \"Run1\": {\"protein\": \"./protein1.pdb\", \"ligand\": \"./ligand1.sdf\"},\n",
    "            \"Run2\": {\"protein\": \"./protein2.pdb\", \"ligand\": \"APO\"}\n",
    "        }\n",
    "    }\n",
    "}\n",
    "\n",
    "runner = generate_md_runner(\n",
    "    account=\"project_465001750\",\n",
    "    toml_config=custom_config\n",
    ")\n",
    "print(runner)"
   ]
  },
  {
   "cell_type": "code",
   "execution_count": null,
   "metadata": {},
   "outputs": [],
   "source": []
  },
  {
   "cell_type": "code",
   "execution_count": null,
   "metadata": {},
   "outputs": [],
   "source": []
  },
  {
   "cell_type": "code",
   "execution_count": null,
   "metadata": {},
   "outputs": [],
   "source": []
  }
 ],
 "metadata": {
  "kernelspec": {
   "display_name": "cheminf_3_11",
   "language": "python",
   "name": "python3"
  },
  "language_info": {
   "codemirror_mode": {
    "name": "ipython",
    "version": 3
   },
   "file_extension": ".py",
   "mimetype": "text/x-python",
   "name": "python",
   "nbconvert_exporter": "python",
   "pygments_lexer": "ipython3",
   "version": "3.11.8"
  }
 },
 "nbformat": 4,
 "nbformat_minor": 2
}
