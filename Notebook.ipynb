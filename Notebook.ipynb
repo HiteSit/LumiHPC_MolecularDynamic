{
 "cells": [
  {
   "cell_type": "code",
   "execution_count": 1,
   "metadata": {},
   "outputs": [],
   "source": [
    "import os\n",
    "import paramiko\n",
    "import scp\n",
    "\n",
    "from HPC_MD.Lumi_Interface import HPCConnection\n",
    "from HPC_MD.Call_Runner import generate_md_runner"
   ]
  },
  {
   "cell_type": "code",
   "execution_count": null,
   "metadata": {},
   "outputs": [],
   "source": [
    "hpc_connector = HPCConnection(key_passphrase=\"Dm761pm*\")\n",
    "hpc_connector.connect()"
   ]
  },
  {
   "cell_type": "code",
   "execution_count": 3,
   "metadata": {},
   "outputs": [],
   "source": [
    "remote_dir = \"/scratch/project_465001750/LAG3_V2/DIOCANE\""
   ]
  },
  {
   "cell_type": "code",
   "execution_count": null,
   "metadata": {},
   "outputs": [],
   "source": [
    "hpc_connector.download_and_rename_directory(remote_dir, \"./\", \"LLERO\")"
   ]
  },
  {
   "cell_type": "code",
   "execution_count": null,
   "metadata": {},
   "outputs": [],
   "source": []
  },
  {
   "cell_type": "code",
   "execution_count": null,
   "metadata": {},
   "outputs": [],
   "source": [
    "custom_config = {\n",
    "    \"mode\": {\"type\": \"legacy\"},\n",
    "    \"legacy\": {\n",
    "        \"runs\": {\n",
    "            \"Run1\": {\"protein\": \"./protein1.pdb\", \"ligand\": \"./ligand1.sdf\"},\n",
    "            \"Run2\": {\"protein\": \"./protein2.pdb\", \"ligand\": \"APO\"}\n",
    "        }\n",
    "    }\n",
    "}\n",
    "\n",
    "runner = generate_md_runner(\n",
    "    account=\"project_465001750\",\n",
    "    toml_config=custom_config\n",
    ")\n",
    "print(runner)"
   ]
  },
  {
   "cell_type": "code",
   "execution_count": null,
   "metadata": {},
   "outputs": [],
   "source": []
  },
  {
   "cell_type": "code",
   "execution_count": null,
   "metadata": {},
   "outputs": [],
   "source": []
  },
  {
   "cell_type": "code",
   "execution_count": null,
   "metadata": {},
   "outputs": [],
   "source": []
  }
 ],
 "metadata": {
  "kernelspec": {
   "display_name": "cheminf_3_11",
   "language": "python",
   "name": "python3"
  },
  "language_info": {
   "codemirror_mode": {
    "name": "ipython",
    "version": 3
   },
   "file_extension": ".py",
   "mimetype": "text/x-python",
   "name": "python",
   "nbconvert_exporter": "python",
   "pygments_lexer": "ipython3",
   "version": "3.11.8"
  }
 },
 "nbformat": 4,
 "nbformat_minor": 2
}
