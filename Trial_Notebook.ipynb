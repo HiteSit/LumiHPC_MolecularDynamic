{
 "cells": [
  {
   "cell_type": "code",
   "execution_count": 20,
   "metadata": {},
   "outputs": [],
   "source": [
    "import os\n",
    "import numpy as np\n",
    "from pathlib import Path\n",
    "from pdbfixer import PDBFixer\n",
    "\n",
    "# OpenMM Application Layer\n",
    "from openmm import XmlSerializer\n",
    "from openmm import app\n",
    "from openmm.app import Modeller, PDBFile\n",
    "\n",
    "# OpenMM Library Layer\n",
    "from openmm import Platform, LangevinIntegrator\n",
    "\n",
    "# OpenMM Units\n",
    "from openmm import unit\n",
    "\n",
    "# OPENFF\n",
    "from openmmforcefields.generators import SystemGenerator"
   ]
  },
  {
   "cell_type": "code",
   "execution_count": 21,
   "metadata": {},
   "outputs": [],
   "source": [
    "# Set input parameters\n",
    "pdb_path = Path(\"./examples/9bf9_Mono_LAG3.cif\")\n",
    "output_dir = Path(\"TMP\")\n",
    "output_dir.mkdir(parents=True, exist_ok=True)"
   ]
  },
  {
   "cell_type": "code",
   "execution_count": 22,
   "metadata": {},
   "outputs": [
    {
     "name": "stdout",
     "output_type": "stream",
     "text": [
      "Preparing protein...\n",
      "Missing residues:  {}\n",
      "Missing atoms:  {<Residue 43 (SER) of chain 0>: [<Atom 3 (OG) of chain 0 residue 0 (SER)>], <Residue 44 (TRP) of chain 0>: [<Atom 3 (CG) of chain 0 residue 0 (TRP)>, <Atom 4 (CD1) of chain 0 residue 0 (TRP)>, <Atom 5 (NE1) of chain 0 residue 0 (TRP)>, <Atom 6 (CE2) of chain 0 residue 0 (TRP)>, <Atom 7 (CZ2) of chain 0 residue 0 (TRP)>, <Atom 8 (CH2) of chain 0 residue 0 (TRP)>, <Atom 9 (CZ3) of chain 0 residue 0 (TRP)>, <Atom 10 (CE3) of chain 0 residue 0 (TRP)>, <Atom 11 (CD2) of chain 0 residue 0 (TRP)>], <Residue 156 (ARG) of chain 0>: [<Atom 3 (CG) of chain 0 residue 0 (ARG)>, <Atom 4 (CD) of chain 0 residue 0 (ARG)>, <Atom 5 (NE) of chain 0 residue 0 (ARG)>, <Atom 6 (CZ) of chain 0 residue 0 (ARG)>, <Atom 7 (NH1) of chain 0 residue 0 (ARG)>, <Atom 8 (NH2) of chain 0 residue 0 (ARG)>]}\n",
      "Nonstandard residues:  []\n"
     ]
    }
   ],
   "source": [
    "# Fix the protein structure\n",
    "print(\"Preparing protein...\")\n",
    "fixer = PDBFixer(str(pdb_path))\n",
    "fixer.removeHeterogens(keepWater=False)\n",
    "fixer.findMissingResidues()\n",
    "fixer.findMissingAtoms()\n",
    "fixer.findNonstandardResidues()\n",
    "\n",
    "print(\"Missing residues: \", fixer.missingResidues)\n",
    "print(\"Missing atoms: \", fixer.missingAtoms)\n",
    "print(\"Nonstandard residues: \", fixer.nonstandardResidues)\n",
    "\n",
    "fixer.addMissingAtoms()\n",
    "fixer.addMissingHydrogens(7.4)"
   ]
  },
  {
   "cell_type": "code",
   "execution_count": 23,
   "metadata": {},
   "outputs": [
    {
     "name": "stdout",
     "output_type": "stream",
     "text": [
      "Setting up forcefield...\n",
      "Creating system and adding solvent...\n"
     ]
    }
   ],
   "source": [
    "# Setup forcefield\n",
    "print(\"Setting up forcefield...\")\n",
    "forcefield_kwargs = {\n",
    "    'constraints': app.HBonds, \n",
    "    'rigidWater': False, \n",
    "    'removeCMMotion': False,\n",
    "    'hydrogenMass': 4 * unit.amu\n",
    "}\n",
    "\n",
    "# Setup system generator for APO (protein-only) system\n",
    "system_generator = SystemGenerator(\n",
    "    forcefields=['amber/ff14SB.xml', 'amber/tip3p_standard.xml'],\n",
    "    forcefield_kwargs=forcefield_kwargs\n",
    ")\n",
    "\n",
    "# Create modeller with protein and add solvent\n",
    "print(\"Creating system and adding solvent...\")\n",
    "modeller = Modeller(fixer.topology, fixer.positions)\n",
    "modeller.addSolvent(system_generator.forcefield,\n",
    "                    model='tip3p',\n",
    "                    padding=1 * unit.nanometer,\n",
    "                    ionicStrength=0.15 * unit.molar)"
   ]
  },
  {
   "cell_type": "code",
   "execution_count": 24,
   "metadata": {},
   "outputs": [
    {
     "name": "stdout",
     "output_type": "stream",
     "text": [
      "70066\n"
     ]
    }
   ],
   "source": [
    "# Create system\n",
    "system = system_generator.create_system(modeller.topology)\n",
    "print(system.getNumParticles())"
   ]
  },
  {
   "cell_type": "code",
   "execution_count": 25,
   "metadata": {},
   "outputs": [],
   "source": [
    "with open(output_dir / \"system.xml\", \"w\") as f:\n",
    "    f.write(XmlSerializer.serialize(system))"
   ]
  },
  {
   "cell_type": "code",
   "execution_count": 10,
   "metadata": {},
   "outputs": [
    {
     "name": "stdout",
     "output_type": "stream",
     "text": [
      "Setting up integrator...\n",
      "Creating simulation...\n"
     ]
    }
   ],
   "source": [
    "# Set up integrator\n",
    "print(\"Setting up integrator...\")\n",
    "temperature = 300  # Kelvin\n",
    "friction = 1.0     # 1/ps\n",
    "timestep = 0.002   # ps\n",
    "integrator = LangevinIntegrator(\n",
    "    temperature * unit.kelvin,\n",
    "    friction / unit.picosecond,\n",
    "    timestep * unit.picoseconds\n",
    ")\n",
    "\n",
    "# Setup platform (try HIP/CUDA)\n",
    "try:\n",
    "    platform = Platform.getPlatformByName('HIP')\n",
    "    properties = {'Precision': 'mixed', 'DeviceIndex': '0'}\n",
    "except Exception:\n",
    "    try:\n",
    "        platform = Platform.getPlatformByName('CUDA')\n",
    "        properties = {'Precision': 'mixed', 'CudaDeviceIndex': '0'}\n",
    "    except Exception:\n",
    "        platform = Platform.getPlatformByName('CPU')\n",
    "        properties = {}\n",
    "\n",
    "# Create simulation\n",
    "print(\"Creating simulation...\")\n",
    "simulation = app.Simulation(modeller.topology, system, integrator, platform, properties)\n",
    "simulation.context.setPositions(modeller.positions)"
   ]
  },
  {
   "cell_type": "code",
   "execution_count": null,
   "metadata": {},
   "outputs": [],
   "source": [
    "# Report system size\n",
    "system_size = len(list(modeller.topology.atoms()))\n",
    "print(f\"System size: {system_size} atoms\")\n",
    "\n",
    "# Save the prepared system as PDB\n",
    "print(\"Saving prepared system...\")\n",
    "state = simulation.context.getState(getPositions=True)\n",
    "with open(os.path.join(output_dir, \"prepared_system.pdb\"), \"w\") as f:\n",
    "    PDBFile.writeFile(modeller.topology, state.getPositions(), f)\n",
    "\n",
    "# Optional: Save minimized structure\n",
    "print(\"Minimizing system...\")\n",
    "simulation.minimizeEnergy()\n",
    "min_state = simulation.context.getState(getEnergy=True, getPositions=True)\n",
    "energy_after_min = min_state.getPotentialEnergy()\n",
    "print(f\"Energy after minimization: {energy_after_min}\")\n",
    "\n",
    "with open(os.path.join(output_dir, \"minimized_system.pdb\"), \"w\") as f:\n",
    "    PDBFile.writeFile(modeller.topology, min_state.getPositions(), f)\n",
    "\n",
    "print(\"System preparation complete!\")"
   ]
  }
 ],
 "metadata": {
  "kernelspec": {
   "display_name": "cheminf_3_11",
   "language": "python",
   "name": "python3"
  },
  "language_info": {
   "codemirror_mode": {
    "name": "ipython",
    "version": 3
   },
   "file_extension": ".py",
   "mimetype": "text/x-python",
   "name": "python",
   "nbconvert_exporter": "python",
   "pygments_lexer": "ipython3",
   "version": "3.11.8"
  }
 },
 "nbformat": 4,
 "nbformat_minor": 2
}
