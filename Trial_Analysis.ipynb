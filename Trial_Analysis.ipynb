{
 "cells": [
  {
   "cell_type": "code",
   "execution_count": null,
   "metadata": {},
   "outputs": [],
   "source": [
    "import os\n",
    "import re\n",
    "import sys\n",
    "import shutil\n",
    "from concurrent.futures import ProcessPoolExecutor\n",
    "\n",
    "import datamol as dm\n",
    "\n",
    "import pytraj as pt\n",
    "import parmed as pmd\n",
    "\n",
    "import MDAnalysis as mda\n",
    "from MDAnalysis.analysis import rms, align, rms, gnm, pca\n",
    "from MDAnalysis.analysis.base import (AnalysisBase,\n",
    "                                      AnalysisFromFunction,\n",
    "                                      analysis_class)\n",
    "import pandas as pd\n",
    "import numpy as np\n",
    "\n",
    "import seaborn as sns\n",
    "import matplotlib.pyplot as plt\n",
    "import plotly.graph_objects as go\n",
    "import plotly.express as px\n",
    "\n",
    "from HPC_MD.Analysis_Lig import *"
   ]
  },
  {
   "cell_type": "code",
   "execution_count": 4,
   "metadata": {},
   "outputs": [],
   "source": [
    "files_paths = find_matching_directories([\n",
    "    \"idx_\\d+_Rank_\\d+_.*\"\n",
    "])"
   ]
  },
  {
   "cell_type": "code",
   "execution_count": null,
   "metadata": {},
   "outputs": [],
   "source": [
    "analysis_paths = create_analyzer_dict(files_paths, overwrite=False)"
   ]
  }
 ],
 "metadata": {
  "kernelspec": {
   "display_name": "cheminf_3_11",
   "language": "python",
   "name": "python3"
  },
  "language_info": {
   "codemirror_mode": {
    "name": "ipython",
    "version": 3
   },
   "file_extension": ".py",
   "mimetype": "text/x-python",
   "name": "python",
   "nbconvert_exporter": "python",
   "pygments_lexer": "ipython3",
   "version": "3.11.8"
  }
 },
 "nbformat": 4,
 "nbformat_minor": 2
}
